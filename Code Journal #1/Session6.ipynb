{
 "cells": [
  {
   "cell_type": "markdown",
   "id": "5bdebede",
   "metadata": {},
   "source": [
    "This function will return the sin of x."
   ]
  },
  {
   "cell_type": "code",
   "execution_count": 2,
   "metadata": {},
   "outputs": [],
   "source": [
    "import numpy as np\n",
    "\n",
    "def sin(x):\n",
    "    return np.sin(x)"
   ]
  },
  {
   "cell_type": "markdown",
   "id": "449c6ed0",
   "metadata": {},
   "source": [
    "This function will return the cos of x."
   ]
  },
  {
   "cell_type": "code",
   "execution_count": 3,
   "id": "f557a60a",
   "metadata": {},
   "outputs": [],
   "source": [
    "import numpy as np\n",
    "\n",
    "def cos(x):\n",
    "    return np.cos(x)"
   ]
  },
  {
   "cell_type": "markdown",
   "id": "c500b77e",
   "metadata": {},
   "source": [
    "This cell creates the lists of sine and cosine tabulated between 0 and 2pi 1000 times."
   ]
  },
  {
   "cell_type": "code",
   "execution_count": 4,
   "id": "a4c4b74f",
   "metadata": {},
   "outputs": [],
   "source": [
    "import numpy as np\n",
    "x = np.linspace(0,2*np.pi,1000)\n",
    "sine = sin(x)\n",
    "cosine = cos(x)"
   ]
  },
  {
   "cell_type": "markdown",
   "id": "314ae1eb",
   "metadata": {},
   "source": [
    "This cell will print the first 10 vaules of sine and cosine tabulated between 0 and 2pi 1000 times."
   ]
  },
  {
   "cell_type": "code",
   "execution_count": 5,
   "id": "fd8d09b0",
   "metadata": {},
   "outputs": [
    {
     "name": "stdout",
     "output_type": "stream",
     "text": [
      "sin(x) = 0.0\n",
      "sin(x) = 0.006289433316067751\n",
      "sin(x) = 0.012578617838741058\n",
      "sin(x) = 0.01886730478446709\n",
      "sin(x) = 0.025155245389375847\n",
      "sin(x) = 0.0314421909191206\n",
      "sin(x) = 0.03772789267871718\n",
      "sin(x) = 0.04401210202238166\n",
      "sin(x) = 0.05029457036336618\n",
      "sin(x) = 0.056575049183792345\n",
      "cosine(x) = 1.0\n",
      "cosine(x) = 0.9999802213186832\n",
      "cosine(x) = 0.9999208860571255\n",
      "cosine(x) = 0.9998219965624732\n",
      "cosine(x) = 0.9996835567465339\n",
      "cosine(x) = 0.9995055720856215\n",
      "cosine(x) = 0.99928804962034\n",
      "cosine(x) = 0.9990309979553044\n",
      "cosine(x) = 0.9987344272588006\n",
      "cosine(x) = 0.9983983492623831\n"
     ]
    }
   ],
   "source": [
    "import numpy as np\n",
    "\n",
    "for i in range(10):\n",
    "    print(f\"sin(x) = {sine[i]}\")\n",
    "for i in range(10):\n",
    "    print(f\"cosine(x) = {cosine[i]}\")"
   ]
  }
 ],
 "metadata": {
  "kernelspec": {
   "display_name": "Python 3",
   "language": "python",
   "name": "python3"
  },
  "language_info": {
   "codemirror_mode": {
    "name": "ipython",
    "version": 3
   },
   "file_extension": ".py",
   "mimetype": "text/x-python",
   "name": "python",
   "nbconvert_exporter": "python",
   "pygments_lexer": "ipython3",
   "version": "3.12.1"
  }
 },
 "nbformat": 4,
 "nbformat_minor": 5
}
